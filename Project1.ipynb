{
    "cells": [
        {
            "cell_type": "code",
            "execution_count": 1,
            "metadata": {},
            "outputs": [
                {
                    "name": "stdout",
                    "output_type": "stream",
                    "text": [
                        "[5000, 5000, 980, 1135]\n",
                        "Your trainset and testset are generated successfully!\n"
                    ]
                }
            ],
            "source": [
                "import numpy\n",
                "import scipy.io\n",
                "import math\n",
                "import geneNewData\n",
                "\n",
                "def main():\n",
                "    myID='2240' #change to last 4 digit of your studentID\n",
                "    geneNewData.geneData(myID)\n",
                "    Numpyfile0 = scipy.io.loadmat('digit0_stu_train'+myID+'.mat')\n",
                "    Numpyfile1 = scipy.io.loadmat('digit1_stu_train'+myID+'.mat')\n",
                "    Numpyfile2 = scipy.io.loadmat('digit0_testset'+'.mat')\n",
                "    Numpyfile3 = scipy.io.loadmat('digit1_testset'+'.mat')\n",
                "    train0 = Numpyfile0.get('target_img')\n",
                "    train1 = Numpyfile1.get('target_img')\n",
                "    test0 = Numpyfile2.get('target_img')\n",
                "    test1 = Numpyfile3.get('target_img')\n",
                "    print([len(train0),len(train1),len(test0),len(test1)])\n",
                "    print('Your trainset and testset are generated successfully!')\n",
                "    pass\n",
                "\n",
                "\n",
                "if __name__ == '__main__':\n",
                "    main()"
            ]
        },
        {
            "cell_type": "code",
            "execution_count": null,
            "metadata": {},
            "outputs": [],
            "source": [
                "# Task 1: Feature Extraction\n",
                "def extract_features(images):\n",
                "    # extract avg brightness and std deviation from images\n",
                "    # args: images - numpy array of shape (num_images, height, width)\n",
                "    # return: features - numpy array of shape (num_images, 2)\n",
                "    pass\n",
                "\n",
                "# Training Data\n",
                "train0_features = extract_features(train0)\n",
                "train1_features = extract_features(train1)\n",
                "\n",
                "# Test small subset first\n",
                "print(f\"Train0 shape: {train0.shape}\")\n",
                "print(f\"Train1 shape: {train1.shape}\")"
            ]
        },
        {
            "cell_type": "code",
            "execution_count": null,
            "metadata": {},
            "outputs": [],
            "source": [
                "# Task 2: Parameter Estimation\n",
                "# calc params for digit 0\n",
                "mean_f1_digit0 = \n",
                "var_f1_digit0 = \n",
                "mean_f2_digit0 =\n",
                "var_f2_digit0 =\n",
                "\n",
                "# calc params for digit 1\n",
                "mean_f1_digit1 =\n",
                "var_f1_digit1 =\n",
                "mean_f2_digit1 =\n",
                "var_f2_digit1 =\n"
            ]
        },
        {
            "cell_type": "code",
            "execution_count": null,
            "metadata": {},
            "outputs": [],
            "source": [
                "# Task 3: Classification\n",
                "def naive_bayes_predict(test_features, params_digit0, params_digit1):\n",
                "    # classify using Naive Bayes\n",
                "    pass\n",
                "\n",
                "# apply to test data\n",
                "test0_features = extract_features(test0)\n",
                "test1_features = extract_features(test1)"
            ]
        },
        {
            "attachments": {},
            "cell_type": "markdown",
            "metadata": {},
            "source": [
                "# **Note:**\n",
                "\n",
                "* Your output should be a list in the following format:\n",
                "[myID,\n",
                "Mean_of_feature1_for_digit0, Variance_of_feature1_for_digit0,\n",
                "Mean_of_feature2_for_digit0, Variance_of_feature2_for_digit0 ,\n",
                "Mean_of_feature1_for_digit1, Variance_of_feature1_for_digit1,\n",
                "Mean_of_feature2_for_digit1, Variance_of_feature2_for_digit1,\n",
                "Accuracy_for_digit0testset, Accuracy_for_digit1testset]\n",
                "* The **order** of these 11 components are important.\n",
                "* Please print the result in the same cell that contains the comment `\"### TEST FUNCTION: test_question1\"` so that the autograder can capture your output and provide accurate feedback. Do not print anything else in the code cell below.\n",
                "* You can divide the code into different cells but the output should be printed in the cell containing the comment `\"### TEST FUNCTION: test_question1\"` \n"
            ]
        },
        {
            "cell_type": "code",
            "execution_count": 2,
            "metadata": {},
            "outputs": [
                {
                    "name": "stdout",
                    "output_type": "stream",
                    "text": [
                        "Hello World!\n"
                    ]
                }
            ],
            "source": [
                "### TEST FUNCTION: test_question1\n",
                "print(\"Hello World!\")\n"
            ]
        }
    ],
    "metadata": {
        "kernelspec": {
            "display_name": ".venv",
            "language": "python",
            "name": "python3"
        },
        "language_info": {
            "codemirror_mode": {
                "name": "ipython",
                "version": 3
            },
            "file_extension": ".py",
            "mimetype": "text/x-python",
            "name": "python",
            "nbconvert_exporter": "python",
            "pygments_lexer": "ipython3",
            "version": "3.12.0"
        }
    },
    "nbformat": 4,
    "nbformat_minor": 2
}
